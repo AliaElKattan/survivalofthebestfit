{
 "cells": [
  {
   "cell_type": "code",
   "execution_count": 1,
   "metadata": {},
   "outputs": [],
   "source": [
    "import matplotlib.pyplot as plt\n",
    "%matplotlib inline\n",
    "import pandas as pd\n",
    "import numpy as np\n",
    "import random\n",
    "import json\n",
    "from faker import Faker\n",
    "from sklearn.model_selection import train_test_split \n",
    "from sklearn.linear_model import Lasso\n",
    "from sklearn.metrics import f1_score\n",
    "from sklearn.ensemble import RandomForestClassifier\n",
    "from sklearn import svm"
   ]
  },
  {
   "cell_type": "code",
   "execution_count": 2,
   "metadata": {},
   "outputs": [],
   "source": [
    "group_size = 1000\n",
    "test_group_size = 1000\n",
    "skew = 5\n",
    "fake = Faker('en').name\n",
    "\n",
    "mini = 0\n",
    "maxi = 10\n",
    "city_bias = 0.1"
   ]
  },
  {
   "cell_type": "code",
   "execution_count": 3,
   "metadata": {},
   "outputs": [
    {
     "name": "stdout",
     "output_type": "stream",
     "text": [
      "               name  city color  work  school  ambition  skill\n",
      "0  William Humphrey     0  blue     3       7         5      1\n",
      "1  Jennifer Morales     0  blue     6       0         0      1\n",
      "2     Lisa Anderson     0  blue     2       6         0      8\n",
      "3    Shannon Brooks     0  blue     4       7         0      2\n",
      "4     Julia Gregory     0  blue     2       0         8      1\n"
     ]
    },
    {
     "data": {
      "image/png": "[encoded data removed]",
      "text/plain": [
       "<Figure size 432x288 with 6 Axes>"
      ]
     },
     "metadata": {
      "needs_background": "light"
     },
     "output_type": "display_data"
    }
   ],
   "source": [
    "#blue group\n",
    "skill = np.random.power(1.6, size=group_size) * -maxi + maxi\n",
    "work = np.random.power(1.6, size=group_size) * -maxi + maxi\n",
    "school = np.random.power(1.6, size=group_size) * -maxi + maxi\n",
    "ambition = np.random.power(1.6, size=group_size) * -maxi + maxi\n",
    "name =  np.array([fake() for _ in range(group_size)])\n",
    "city = np.random.choice(2, group_size, p=[1-city_bias, city_bias])\n",
    "color =  np.array(['blue' for _ in range(group_size)])\n",
    "\n",
    "blue_group = pd.DataFrame({'name': name, 'city': city, 'color': color, 'work': work.astype(int), 'school': school.astype(int), 'ambition': ambition.astype(int), 'skill': skill.astype(int)})\n",
    "\n",
    "print(blue_group.head())\n",
    "\n",
    "blue_group.hist()\n",
    "plt.show()"
   ]
  },
  {
   "cell_type": "code",
   "execution_count": 4,
   "metadata": {},
   "outputs": [
    {
     "data": {
      "image/png": "[encoded data removed]",
      "text/plain": [
       "<Figure size 432x288 with 6 Axes>"
      ]
     },
     "metadata": {
      "needs_background": "light"
     },
     "output_type": "display_data"
    }
   ],
   "source": [
    "#yellow group\n",
    "\n",
    "skill = np.random.randint(mini, maxi, group_size)\n",
    "work = np.random.randint(mini, maxi, group_size)\n",
    "school = np.random.randint(mini, maxi, group_size)\n",
    "ambition = np.random.randint(mini, maxi, group_size)\n",
    "name =  np.array([fake() for _ in range(group_size)])\n",
    "city = np.random.choice(2, group_size, p=[city_bias, 1-city_bias])\n",
    "color =  np.array(['yellow' for _ in range(group_size)])\n",
    "\n",
    "yellow_group = pd.DataFrame({'name': name, 'city': city, 'color': color, 'work': work, 'school': school, 'ambition': ambition, 'skill': skill})\n",
    "yellow_group.hist()\n",
    "plt.show()"
   ]
  },
  {
   "cell_type": "code",
   "execution_count": 5,
   "metadata": {},
   "outputs": [
    {
     "name": "stdout",
     "output_type": "stream",
     "text": [
      "0.67\n",
      "670\n",
      "              name  city   color  work  school  ambition  skill  empl\n",
      "0     Jesse Carter     1  yellow     0       8         7      5     1\n",
      "1     Monica Haney     1  yellow     0       5         6      1     0\n",
      "2  Melissa Allison     1  yellow     6       5         6      2     1\n",
      "3     Jacob Fields     1  yellow     7       8         9      9     1\n",
      "4   Jeffrey Miller     1  yellow     6       9         5      8     1\n",
      "0.052\n",
      "52\n",
      "               name  city color  work  school  ambition  skill  empl\n",
      "0  William Humphrey     0  blue     3       7         5      1     0\n",
      "1  Jennifer Morales     0  blue     6       0         0      1     0\n",
      "2     Lisa Anderson     0  blue     2       6         0      8     0\n",
      "3    Shannon Brooks     0  blue     4       7         0      2     0\n",
      "4     Julia Gregory     0  blue     2       0         8      1     0\n"
     ]
    }
   ],
   "source": [
    "# checking employability     work + school\n",
    "fuzz_min = 99\n",
    "fuzz_max = 101\n",
    "\n",
    "# decide whether person was employed based on threshold and small fuzzing\n",
    "yellow_group['empl'] = np.where((yellow_group['school'] + yellow_group['work'] + yellow_group['skill'] + yellow_group['ambition']) * np.random.randint(fuzz_min, fuzz_max, size=len(yellow_group)) // 90 > 16, 1, 0)\n",
    "blue_group['empl'] = np.where((blue_group['school'] + blue_group['work'] + blue_group['skill'] + blue_group['ambition']) * np.random.randint(fuzz_min, fuzz_max, size=len(blue_group)) // 90 > 24, 1, 0)\n",
    "\n",
    "print(yellow_group['empl'].mean())\n",
    "print(yellow_group['empl'].sum())\n",
    "print(yellow_group.head())\n",
    "print(blue_group['empl'].mean())\n",
    "print(blue_group['empl'].sum())\n",
    "print(blue_group.head())"
   ]
  },
  {
   "cell_type": "code",
   "execution_count": 6,
   "metadata": {},
   "outputs": [],
   "source": [
    "# concat and shuffling rows\n",
    "blue_size = int(group_size//2)\n",
    "less_blue_group = blue_group[:blue_size]\n",
    "cvData = pd.concat([less_blue_group, yellow_group], ignore_index=True, sort=False).sample(frac=1).reset_index(drop=True)"
   ]
  },
  {
   "cell_type": "code",
   "execution_count": 25,
   "metadata": {},
   "outputs": [
    {
     "name": "stdout",
     "output_type": "stream",
     "text": [
      "      city  work  school  ambition  skill\n",
      "704      1     8       8         0      8\n",
      "499      1     1       3         5      0\n",
      "52       1     2       7         1      3\n",
      "787      1     0       6         8      0\n",
      "1361     0     6       1         5      2\n",
      "704     1\n",
      "499     0\n",
      "52      0\n",
      "787     0\n",
      "1361    0\n",
      "Name: empl, dtype: int64\n"
     ]
    }
   ],
   "source": [
    "train, test = train_test_split(cvData, test_size=0.2)\n",
    "\n",
    "train_x = train.drop(['name', 'color', 'empl'], axis='columns')\n",
    "train_y = train['empl']\n",
    "test_x = test.drop(['name', 'color', 'empl'], axis='columns')\n",
    "test_y = test['empl']\n",
    "print(train_x.head())\n",
    "print(train_y.head())"
   ]
  },
  {
   "cell_type": "code",
   "execution_count": 26,
   "metadata": {},
   "outputs": [
    {
     "name": "stdout",
     "output_type": "stream",
     "text": [
      "f1 accuracy:  0.7553956834532374\n",
      "     city  work  school  ambition  skill  employed\n",
      "36      1     4       5         7      2         0\n",
      "428     1     0       8         8      3         0\n",
      "575     1     6       5         4      1         1\n",
      "847     1     5       7         9      3         0\n",
      "228     1     5       2         5      4         1\n",
      "city         195\n",
      "work        1289\n",
      "school      1314\n",
      "ambition    1335\n",
      "skill       1290\n",
      "employed     117\n",
      "dtype: int64\n",
      "      work  school  ambition  skill  employed\n",
      "city                                         \n",
      "0      392     404       401    409         0\n",
      "1      897     910       934    881       117\n"
     ]
    }
   ],
   "source": [
    "clf = RandomForestClassifier(n_estimators=5, max_depth=2, random_state=0)\n",
    "clf.fit(train_x, train_y) \n",
    "predictions_test = clf.predict(test_x)\n",
    "print('f1 accuracy: ', f1_score(predictions_test, test_y))\n",
    "test_x['employed'] = predictions_test\n",
    "print(test_x.head())\n",
    "print(test_x.sum())\n",
    "\n",
    "print(test_x.groupby(['city']).sum())"
   ]
  },
  {
   "cell_type": "markdown",
   "metadata": {},
   "source": [
    "### Testing bias and Performance\n"
   ]
  },
  {
   "cell_type": "code",
   "execution_count": 27,
   "metadata": {},
   "outputs": [],
   "source": [
    "def run_test(minimum, maximum):\n",
    "    work = np.random.randint(minimum, maximum, test_group_size)\n",
    "    school = np.random.randint(minimum, maximum, test_group_size)\n",
    "    ambition = np.random.randint(minimum, maximum, test_group_size)\n",
    "    skill = np.random.randint(minimum, maximum, test_group_size)\n",
    "    city = np.random.randint(0, 2, test_group_size)\n",
    "    \n",
    "    test_data = pd.DataFrame({'city': city, 'work': work, 'school': school, 'ambition': ambition, 'skill': skill})\n",
    "    test_data.hist()\n",
    "    plt.show()\n",
    "    pred = clf.predict(test_data)\n",
    "    test_data['empl'] = pred\n",
    "    print(pred.sum())\n",
    "    test_data.head()\n",
    "    print(test_data.groupby(['city']).sum())\n",
    "    \n",
    "    return test_data"
   ]
  },
  {
   "cell_type": "code",
   "execution_count": 28,
   "metadata": {},
   "outputs": [
    {
     "data": {
      "image/png": "[encoded data removed]",
      "text/plain": [
       "<Figure size 432x288 with 6 Axes>"
      ]
     },
     "metadata": {
      "needs_background": "light"
     },
     "output_type": "display_data"
    },
    {
     "name": "stdout",
     "output_type": "stream",
     "text": [
      "288\n",
      "      work  school  ambition  skill  empl\n",
      "city                                     \n",
      "0     2204    2315      2169   2228     0\n",
      "1     2229    2278      2212   2221   288\n"
     ]
    }
   ],
   "source": [
    "# To see if there is bias against city, when equally qualified people in the two cities\n",
    "equalCvTestData = run_test(mini, maxi)"
   ]
  },
  {
   "cell_type": "code",
   "execution_count": 11,
   "metadata": {},
   "outputs": [
    {
     "data": {
      "image/png": "[encoded data removed]",
      "text/plain": [
       "<Figure size 432x288 with 6 Axes>"
      ]
     },
     "metadata": {
      "needs_background": "light"
     },
     "output_type": "display_data"
    },
    {
     "name": "stdout",
     "output_type": "stream",
     "text": [
      "1000\n",
      "      work  school  ambition  skill  empl\n",
      "city                                     \n",
      "0     4023    4053      4065   4092   506\n",
      "1     3973    3956      3988   3939   494\n"
     ]
    }
   ],
   "source": [
    "# To see that highly qualified people do get in regradless of city\n",
    "high_qual_mini = maxi * 0.75\n",
    "goodCvTestData = run_test(high_qual_mini, maxi)"
   ]
  },
  {
   "cell_type": "code",
   "execution_count": 12,
   "metadata": {},
   "outputs": [
    {
     "data": {
      "image/png": "[encoded data removed]",
      "text/plain": [
       "<Figure size 432x288 with 6 Axes>"
      ]
     },
     "metadata": {
      "needs_background": "light"
     },
     "output_type": "display_data"
    },
    {
     "name": "stdout",
     "output_type": "stream",
     "text": [
      "41\n",
      "      work  school  ambition  skill  empl\n",
      "city                                     \n",
      "0     1329    1357      1299   1285     0\n",
      "1     1133    1210      1172   1150    41\n"
     ]
    }
   ],
   "source": [
    "# To see that highly qualified people do get in regradless of city\n",
    "low_qual_maxi = maxi * 0.65\n",
    "badCvTestData = run_test(mini, low_qual_maxi)"
   ]
  },
  {
   "cell_type": "markdown",
   "metadata": {},
   "source": [
    "## Writing to files"
   ]
  },
  {
   "cell_type": "code",
   "execution_count": 126,
   "metadata": {},
   "outputs": [
    {
     "name": "stdout",
     "output_type": "stream",
     "text": [
      "[{'name': 'Vincent Rojas', 'city': 1, 'color': 'yellow', 'empl': 1, 'qualifications': [2, 5, 2, 7]}, {'name': 'Robert Phillips', 'city': 1, 'color': 'yellow', 'empl': 1, 'qualifications': [7, 4, 6, 2]}]\n",
      "[{'city': 1, 'empl': 1, 'qualifications': [8, 8, 9, 9]}, {'city': 1, 'empl': 1, 'qualifications': [9, 7, 9, 9]}]\n",
      "[{'city': 0, 'empl': 0, 'qualifications': [2, 3, 0, 1]}, {'city': 1, 'empl': 0, 'qualifications': [5, 1, 2, 1]}]\n",
      "[{'city': 1, 'empl': 1, 'qualifications': [0, 7, 5, 2]}, {'city': 0, 'empl': 0, 'qualifications': [3, 0, 3, 9]}]\n"
     ]
    }
   ],
   "source": [
    "def resumes_to_file(cv_df, filename):\n",
    "    cvs = cv_df.to_dict('records')\n",
    "    for cv in cvs:\n",
    "        cv['qualifications'] = [cv['ambition'], cv['school'], cv['work'], cv['skill']]\n",
    "        cv.pop('ambition', None)\n",
    "        cv.pop('work', None)\n",
    "        cv.pop('skill', None)\n",
    "        cv.pop('school', None)\n",
    "    print(cvs[:2])\n",
    "    path = f'../game/public/game/assets/text/{filename}.json'\n",
    "    with open(path, 'w') as outfile:\n",
    "        json.dump({'candidates': cvs}, outfile)\n",
    "        \n",
    "resumes_to_file(cvData, 'cvData')\n",
    "resumes_to_file(goodCvTestData, 'goodCvTestData')\n",
    "resumes_to_file(badCvTestData, 'badCvTestData')\n",
    "resumes_to_file(equalCvTestData, 'equalCvTestData')"
   ]
  },
  {
   "cell_type": "markdown",
   "metadata": {},
   "source": [
    "# Experiment 2 - new CV features\n",
    "Person Template:\n",
    "{\n",
    "    GroundTruth:\n",
    "    {\n",
    "        Hired: 1/0,\n",
    "        Color: yellow/blue,\n",
    "        TotalSkill: skillevel,\n",
    "    }\n",
    "    Resume:\n",
    "    {\n",
    "        Name: name,\n",
    "        Location: <cities>,\n",
    "        Education: <Schools>,\n",
    "        ClassRanking: <ranking>,\n",
    "        WorkExperience: <work places>,\n",
    "        TechnicalSkills: <skills>,\n",
    "        Hobbies: <hobbies>,\n",
    "    }\n",
    "}\n",
    "\n",
    "<cities>\n",
    "- Bluetown\n",
    "- Yellow Hill\n",
    "\n",
    "<Schools>\n",
    "- PHD: 100\n",
    "- Ivy League: 90\n",
    "- Technical School: 80\n",
    "- Liberal arts school: 70\n",
    "- State University: 60\n",
    "- Home Schooled: 50\n",
    "- Bootcamp: 40\n",
    "- Online Degree: 30\n",
    "- Practical Training: 20\n",
    "- College Dropout: 10\n",
    "- High School: 0\n",
    "\n",
    "<rankings>\n",
    "- top 1% : 100\n",
    "- top 20% : 80\n",
    "- top 50% : 60\n",
    "- lower 50% : 40\n",
    "- lower 30% : 20\n",
    "- lower 10% : 0\n",
    "\n",
    "<work places>\n",
    "- Top Tech Company: 100\n",
    "- Diverse Experiences: 90\n",
    "- Fortune 500: 80\n",
    "- Self-Employed: 70\n",
    "- Small Company: 60\n",
    "- Academia: 50\n",
    "- Non Profit: 40\n",
    "- Government: 30\n",
    "- Full-time parent: 20\n",
    "- No Experience: 10\n",
    "- Unemployed: 0\n",
    "\n",
    "<skills>\n",
    "- Expert: 100\n",
    "- Advanced: 66\n",
    "- Intermediate: 33\n",
    "- Beginner: 0\n",
    "    \n",
    "<hobbies>\n",
    "- Chess Club Leader\n",
    "- Languages\n",
    "- Volunteer\n",
    "- Religion\n",
    "- Football\n",
    "- Basketball\n",
    "- Golf\n",
    "- Painting\n",
    "- N/A\n",
    "    \n",
    "    \n",
    "\n",
    "Assumptions:\n",
    "- Population 50% blue, 50% yellow \n",
    "- 90% of Yellow people are from Yellowtown (number 1), the rest from Blueville\n",
    "- 90% of Blue people are from Blueville (number 0), the rest from Yellowtown\n",
    "\n",
    "\n",
    "- Features: name, color, city, qualifications: {work experience, ambition, school}\n",
    "- True employabilty is determined by the sum of the features\n",
    "- Yellow people are employed if their employability is 40% of max score\n",
    "- Blue people are employed if their employability is above 80% of max score\n",
    "\n",
    "\n",
    "- Blue people have less employability during training.\n",
    "- Yellow group has skew of 1 towards experience, Blue group has skew of 1 towards school\n",
    "- group_size = 1000\n",
    "- id range below group size is blue, id range above group size is yellow"
   ]
  },
  {
   "cell_type": "code",
   "execution_count": null,
   "metadata": {},
   "outputs": [],
   "source": []
  }
 ],
 "metadata": {
  "kernelspec": {
   "display_name": "Python 3",
   "language": "python",
   "name": "python3"
  },
  "language_info": {
   "codemirror_mode": {
    "name": "ipython",
    "version": 3
   },
   "file_extension": ".py",
   "mimetype": "text/x-python",
   "name": "python",
   "nbconvert_exporter": "python",
   "pygments_lexer": "ipython3",
   "version": "3.7.1"
  }
 },
 "nbformat": 4,
 "nbformat_minor": 2
}
