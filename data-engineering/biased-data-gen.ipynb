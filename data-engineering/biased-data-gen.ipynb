{
 "cells": [
  {
   "cell_type": "code",
   "execution_count": 42,
   "metadata": {},
   "outputs": [],
   "source": [
    "import matplotlib.pyplot as plt\n",
    "%matplotlib inline\n",
    "import pandas as pd\n",
    "import numpy as np\n",
    "import random\n",
    "import json\n",
    "from faker import Faker\n",
    "from sklearn.model_selection import train_test_split \n",
    "from sklearn.linear_model import Lasso\n",
    "from sklearn.metrics import f1_score\n",
    "from sklearn.ensemble import RandomForestClassifier\n",
    "from sklearn import svm"
   ]
  },
  {
   "cell_type": "code",
   "execution_count": 43,
   "metadata": {},
   "outputs": [],
   "source": [
    "group_size = 1000\n",
    "test_group_size = 1000\n",
    "skew = 5\n",
    "fake = Faker('en').name\n",
    "\n",
    "mini = 0\n",
    "maxi = 10\n",
    "city_bias = 0.1"
   ]
  },
  {
   "cell_type": "code",
   "execution_count": 44,
   "metadata": {},
   "outputs": [
    {
     "name": "stdout",
     "output_type": "stream",
     "text": [
      "             name  city color  work  school  ambition  skill\n",
      "0   Melissa Moore     0  blue     6       0         1      2\n",
      "1  James Delacruz     0  blue     3       0         5      2\n",
      "2  Betty Harrison     0  blue     2       5         0      6\n",
      "3    Teresa Olsen     0  blue     1       8         7      0\n",
      "4  Lisa Velazquez     0  blue     0       0         0      9\n"
     ]
    },
    {
     "data": {
      "image/png": "[encoded data removed]",
      "text/plain": [
       "<Figure size 432x288 with 6 Axes>"
      ]
     },
     "metadata": {
      "needs_background": "light"
     },
     "output_type": "display_data"
    }
   ],
   "source": [
    "#blue group\n",
    "skill = np.random.power(1.6, size=group_size) * -maxi + maxi\n",
    "work = np.random.power(1.6, size=group_size) * -maxi + maxi\n",
    "school = np.random.power(1.6, size=group_size) * -maxi + maxi\n",
    "ambition = np.random.power(1.6, size=group_size) * -maxi + maxi\n",
    "name =  np.array([fake() for _ in range(group_size)])\n",
    "city = np.random.choice(2, group_size, p=[1-city_bias, city_bias])\n",
    "color =  np.array(['blue' for _ in range(group_size)])\n",
    "\n",
    "blue_group = pd.DataFrame({'name': name, 'city': city, 'color': color, 'work': work.astype(int), 'school': school.astype(int), 'ambition': ambition.astype(int), 'skill': skill.astype(int)})\n",
    "\n",
    "print(blue_group.head())\n",
    "\n",
    "blue_group.hist()\n",
    "plt.show()"
   ]
  },
  {
   "cell_type": "code",
   "execution_count": 45,
   "metadata": {},
   "outputs": [
    {
     "data": {
      "image/png": "[encoded data removed]",
      "text/plain": [
       "<Figure size 432x288 with 6 Axes>"
      ]
     },
     "metadata": {
      "needs_background": "light"
     },
     "output_type": "display_data"
    }
   ],
   "source": [
    "#yellow group\n",
    "\n",
    "skill = np.random.randint(mini, maxi, group_size)\n",
    "work = np.random.randint(mini, maxi, group_size)\n",
    "school = np.random.randint(mini, maxi, group_size)\n",
    "ambition = np.random.randint(mini, maxi, group_size)\n",
    "name =  np.array([fake() for _ in range(group_size)])\n",
    "city = np.random.choice(2, group_size, p=[city_bias, 1-city_bias])\n",
    "color =  np.array(['yellow' for _ in range(group_size)])\n",
    "\n",
    "yellow_group = pd.DataFrame({'name': name, 'city': city, 'color': color, 'work': work, 'school': school, 'ambition': ambition, 'skill': skill})\n",
    "yellow_group.hist()\n",
    "plt.show()"
   ]
  },
  {
   "cell_type": "code",
   "execution_count": 46,
   "metadata": {},
   "outputs": [
    {
     "name": "stdout",
     "output_type": "stream",
     "text": [
      "0.657\n",
      "657\n",
      "               name  city   color  work  school  ambition  skill  empl\n",
      "0      Carmen Bryan     1  yellow     7       0         8      1     1\n",
      "1         Leah Bird     1  yellow     2       3         3      7     0\n",
      "2    Lindsay Jensen     1  yellow     5       0         7      6     1\n",
      "3     Douglas Dixon     1  yellow     6       2         7      9     1\n",
      "4  Alexander Finley     1  yellow     3       7         4      1     0\n",
      "0.03\n",
      "30\n",
      "             name  city color  work  school  ambition  skill  empl\n",
      "0   Melissa Moore     0  blue     6       0         1      2     0\n",
      "1  James Delacruz     0  blue     3       0         5      2     0\n",
      "2  Betty Harrison     0  blue     2       5         0      6     0\n",
      "3    Teresa Olsen     0  blue     1       8         7      0     0\n",
      "4  Lisa Velazquez     0  blue     0       0         0      9     0\n"
     ]
    }
   ],
   "source": [
    "# checking employability     work + school\n",
    "fuzz_min = 99\n",
    "fuzz_max = 101\n",
    "\n",
    "# decide whether person was employed based on threshold and small fuzzing\n",
    "yellow_group['empl'] = np.where((yellow_group['school'] + yellow_group['work'] + yellow_group['skill'] + yellow_group['ambition']) * np.random.randint(fuzz_min, fuzz_max, size=len(yellow_group)) // 90 > 16, 1, 0)\n",
    "blue_group['empl'] = np.where((blue_group['school'] + blue_group['work'] + blue_group['skill'] + blue_group['ambition']) * np.random.randint(fuzz_min, fuzz_max, size=len(blue_group)) // 90 > 25, 1, 0)\n",
    "\n",
    "print(yellow_group['empl'].mean())\n",
    "print(yellow_group['empl'].sum())\n",
    "print(yellow_group.head())\n",
    "print(blue_group['empl'].mean())\n",
    "print(blue_group['empl'].sum())\n",
    "print(blue_group.head())"
   ]
  },
  {
   "cell_type": "code",
   "execution_count": 47,
   "metadata": {},
   "outputs": [],
   "source": [
    "# concat and shuffling rows\n",
    "blue_size = int(group_size//2)\n",
    "less_blue_group = blue_group[:blue_size]\n",
    "cvData = pd.concat([less_blue_group, yellow_group], ignore_index=True, sort=False).sample(frac=1).reset_index(drop=True)"
   ]
  },
  {
   "cell_type": "code",
   "execution_count": 48,
   "metadata": {},
   "outputs": [],
   "source": [
    "train, test = train_test_split(cvData, test_size=0.2)\n",
    "\n",
    "train_x = train.drop(['name', 'color', 'empl'], axis='columns')\n",
    "train_y = train['empl']\n",
    "test_x = test.drop(['name', 'color', 'empl'], axis='columns')\n",
    "test_y = test['empl']"
   ]
  },
  {
   "cell_type": "code",
   "execution_count": 49,
   "metadata": {},
   "outputs": [
    {
     "name": "stdout",
     "output_type": "stream",
     "text": [
      "f1 accuracy:  0.8897338403041826\n"
     ]
    }
   ],
   "source": [
    "clf = RandomForestClassifier(n_estimators=500, max_depth=4, random_state=0)\n",
    "clf.fit(train_x, train_y) \n",
    "predictions_test = clf.predict(test_x)\n",
    "print('f1 accuracy: ', f1_score(predictions_test, test_y))"
   ]
  },
  {
   "cell_type": "markdown",
   "metadata": {},
   "source": [
    "### Testing bias and Performance\n"
   ]
  },
  {
   "cell_type": "code",
   "execution_count": 50,
   "metadata": {},
   "outputs": [],
   "source": [
    "def run_test(minimum, maximum):\n",
    "    work = np.random.randint(minimum, maximum, test_group_size)\n",
    "    school = np.random.randint(minimum, maximum, test_group_size)\n",
    "    ambition = np.random.randint(minimum, maximum, test_group_size)\n",
    "    skill = np.random.randint(minimum, maximum, test_group_size)\n",
    "    city = np.random.randint(0, 2, test_group_size)\n",
    "    \n",
    "    test_data = pd.DataFrame({'city': city, 'work': work, 'school': school, 'ambition': ambition, 'skill': skill})\n",
    "    test_data.hist()\n",
    "    plt.show()\n",
    "    pred = clf.predict(test_data)\n",
    "    test_data['employed'] = pred\n",
    "    print(pred.sum())\n",
    "    test_data.head()\n",
    "    print(test_data.groupby(['city']).sum())\n",
    "    \n",
    "    return test_data"
   ]
  },
  {
   "cell_type": "code",
   "execution_count": 51,
   "metadata": {},
   "outputs": [
    {
     "data": {
      "image/png": "[encoded data removed]",
      "text/plain": [
       "<Figure size 432x288 with 6 Axes>"
      ]
     },
     "metadata": {
      "needs_background": "light"
     },
     "output_type": "display_data"
    },
    {
     "name": "stdout",
     "output_type": "stream",
     "text": [
      "391\n",
      "      work  school  ambition  skill  employed\n",
      "city                                         \n",
      "0     2415    2286      2377   2277        42\n",
      "1     2233    2104      2152   2228       349\n"
     ]
    }
   ],
   "source": [
    "# To see if there is bias against city, when equally qualified people in the two cities\n",
    "equalCvTestData = run_test(mini, maxi)"
   ]
  },
  {
   "cell_type": "code",
   "execution_count": 52,
   "metadata": {},
   "outputs": [
    {
     "data": {
      "image/png": "[encoded data removed]",
      "text/plain": [
       "<Figure size 432x288 with 6 Axes>"
      ]
     },
     "metadata": {
      "needs_background": "light"
     },
     "output_type": "display_data"
    },
    {
     "name": "stdout",
     "output_type": "stream",
     "text": [
      "1000\n",
      "      work  school  ambition  skill  employed\n",
      "city                                         \n",
      "0     3989    4007      4015   4038       500\n",
      "1     3995    4027      3998   3983       500\n"
     ]
    }
   ],
   "source": [
    "# To see that highly qualified people do get in regradless of city\n",
    "high_qual_mini = maxi * 0.75\n",
    "goodCvTestData = run_test(high_qual_mini, maxi)"
   ]
  },
  {
   "cell_type": "code",
   "execution_count": 53,
   "metadata": {},
   "outputs": [
    {
     "data": {
      "image/png": "[encoded data removed]",
      "text/plain": [
       "<Figure size 432x288 with 6 Axes>"
      ]
     },
     "metadata": {
      "needs_background": "light"
     },
     "output_type": "display_data"
    },
    {
     "name": "stdout",
     "output_type": "stream",
     "text": [
      "37\n",
      "      work  school  ambition  skill  employed\n",
      "city                                         \n",
      "0     1226    1167      1345   1236         0\n",
      "1     1278    1187      1301   1233        37\n"
     ]
    }
   ],
   "source": [
    "# To see that highly qualified people do get in regradless of city\n",
    "low_qual_maxi = maxi * 0.65\n",
    "badCvTestData = run_test(mini, low_qual_maxi)"
   ]
  },
  {
   "cell_type": "markdown",
   "metadata": {},
   "source": [
    "## Writing to files"
   ]
  },
  {
   "cell_type": "code",
   "execution_count": 57,
   "metadata": {},
   "outputs": [
    {
     "name": "stdout",
     "output_type": "stream",
     "text": [
      "[{'name': 'Heather Johnson', 'city': 1, 'color': 'yellow', 'empl': 1, 'qualifications': [4, 8, 1, 5]}, {'name': 'Mrs. Sherri Horton', 'city': 1, 'color': 'yellow', 'empl': 0, 'qualifications': [6, 3, 1, 4]}]\n",
      "[{'city': 1, 'employed': 1, 'qualifications': [9, 8, 8, 7]}, {'city': 1, 'employed': 1, 'qualifications': [9, 7, 8, 9]}]\n",
      "[{'city': 1, 'employed': 0, 'qualifications': [4, 0, 0, 3]}, {'city': 0, 'employed': 0, 'qualifications': [5, 1, 5, 2]}]\n",
      "[{'city': 0, 'employed': 0, 'qualifications': [4, 5, 8, 2]}, {'city': 1, 'employed': 1, 'qualifications': [8, 4, 1, 6]}]\n"
     ]
    }
   ],
   "source": [
    "def resumes_to_file(cv_df, filename):\n",
    "    cvs = cv_df.to_dict('records')\n",
    "    for cv in cvs:\n",
    "        cv['qualifications'] = [cv['ambition'], cv['school'], cv['work'], cv['skill']]\n",
    "        cv.pop('ambition', None)\n",
    "        cv.pop('work', None)\n",
    "        cv.pop('skill', None)\n",
    "        cv.pop('school', None)\n",
    "    print(cvs[:2])\n",
    "    path = f'../game/public/assets/text/{filename}.json'\n",
    "    with open(path, 'w') as outfile:\n",
    "        json.dump({'candidates': cvs}, outfile)\n",
    "        \n",
    "resumes_to_file(cvData, 'cvData')\n",
    "resumes_to_file(goodCvTestData, 'goodCvTestData')\n",
    "resumes_to_file(badCvTestData, 'badCvTestData')\n",
    "resumes_to_file(equalCvTestData, 'equalCvTestData')"
   ]
  },
  {
   "cell_type": "markdown",
   "metadata": {},
   "source": [
    "# Experiment 2 - new CV features\n",
    "Person Template:\n",
    "{\n",
    "    GroundTruth:\n",
    "    {\n",
    "        Hired: 1/0,\n",
    "        Color: yellow/blue,\n",
    "        TotalSkill: skillevel,\n",
    "    }\n",
    "    Resume:\n",
    "    {\n",
    "        Name: name,\n",
    "        Location: <cities>,\n",
    "        Education: <Schools>,\n",
    "        ClassRanking: <ranking>,\n",
    "        WorkExperience: <work places>,\n",
    "        TechnicalSkills: <skills>,\n",
    "        Hobbies: <hobbies>,\n",
    "    }\n",
    "}\n",
    "\n",
    "<cities>\n",
    "- Bluetown\n",
    "- Yellow Hill\n",
    "\n",
    "<Schools>\n",
    "- PHD: 100\n",
    "- Ivy League: 90\n",
    "- Technical School: 80\n",
    "- Liberal arts school: 70\n",
    "- State University: 60\n",
    "- Home Schooled: 50\n",
    "- Bootcamp: 40\n",
    "- Online Degree: 30\n",
    "- Practical Training: 20\n",
    "- College Dropout: 10\n",
    "- High School: 0\n",
    "\n",
    "<rankings>\n",
    "- top 1% : 100\n",
    "- top 20% : 80\n",
    "- top 50% : 60\n",
    "- lower 50% : 40\n",
    "- lower 30% : 20\n",
    "- lower 10% : 0\n",
    "\n",
    "<work places>\n",
    "- Top Tech Company: 100\n",
    "- Diverse Experiences: 90\n",
    "- Fortune 500: 80\n",
    "- Self-Employed: 70\n",
    "- Small Company: 60\n",
    "- Academia: 50\n",
    "- Non Profit: 40\n",
    "- Government: 30\n",
    "- Full-time parent: 20\n",
    "- No Experience: 10\n",
    "- Unemployed: 0\n",
    "\n",
    "<skills>\n",
    "- Expert: 100\n",
    "- Advanced: 66\n",
    "- Intermediate: 33\n",
    "- Beginner: 0\n",
    "    \n",
    "<hobbies>\n",
    "- Chess Club Leader\n",
    "- Languages\n",
    "- Volunteer\n",
    "- Religion\n",
    "- Football\n",
    "- Basketball\n",
    "- Golf\n",
    "- Painting\n",
    "- N/A\n",
    "    \n",
    "    \n",
    "\n",
    "Assumptions:\n",
    "- Population 50% blue, 50% yellow \n",
    "- 90% of Yellow people are from Yellowtown (number 1), the rest from Blueville\n",
    "- 90% of Blue people are from Blueville (number 0), the rest from Yellowtown\n",
    "\n",
    "\n",
    "- Features: name, color, city, qualifications: {work experience, ambition, school}\n",
    "- True employabilty is determined by the sum of the features\n",
    "- Yellow people are employed if their employability is 40% of max score\n",
    "- Blue people are employed if their employability is above 80% of max score\n",
    "\n",
    "\n",
    "- Blue people have less employability during training.\n",
    "- Yellow group has skew of 1 towards experience, Blue group has skew of 1 towards school\n",
    "- group_size = 1000\n",
    "- id range below group size is blue, id range above group size is yellow"
   ]
  },
  {
   "cell_type": "code",
   "execution_count": null,
   "metadata": {},
   "outputs": [],
   "source": []
  }
 ],
 "metadata": {
  "kernelspec": {
   "display_name": "Python 3",
   "language": "python",
   "name": "python3"
  },
  "language_info": {
   "codemirror_mode": {
    "name": "ipython",
    "version": 3
   },
   "file_extension": ".py",
   "mimetype": "text/x-python",
   "name": "python",
   "nbconvert_exporter": "python",
   "pygments_lexer": "ipython3",
   "version": "3.7.1"
  }
 },
 "nbformat": 4,
 "nbformat_minor": 2
}
