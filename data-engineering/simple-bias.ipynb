{
 "cells": [
  {
   "cell_type": "code",
   "execution_count": 162,
   "metadata": {},
   "outputs": [],
   "source": [
    "%matplotlib inline\n",
    "import pandas as pd\n",
    "import numpy as np\n",
    "import random\n",
    "from sklearn.model_selection import train_test_split \n",
    "from sklearn.linear_model import Lasso\n",
    "from sklearn.metrics import f1_score"
   ]
  },
  {
   "cell_type": "markdown",
   "metadata": {},
   "source": [
    "# Experiment 1\n",
    "Assumptions:\n",
    "- Population 50% blue, 50% yellow \n",
    "- Features: work experience, school\n",
    "- True employabilty is determined by the sum of the features\n",
    "- Two groups have same normal true employability distribution\n",
    "- Yellow group has skew of 1 towards experience, Blue group has skew of 1 towards school\n",
    "- group_size = 5000\n",
    "- id range below group size is blue, id range above group size is yellow\n",
    "\n",
    "- employ people with skill levels above 1\n",
    "- "
   ]
  },
  {
   "cell_type": "markdown",
   "metadata": {},
   "source": [
    "### Create population with assumptions"
   ]
  },
  {
   "cell_type": "code",
   "execution_count": 163,
   "metadata": {},
   "outputs": [],
   "source": [
    "group_size = 5000\n",
    "skew = 5"
   ]
  },
  {
   "cell_type": "code",
   "execution_count": 164,
   "metadata": {},
   "outputs": [
    {
     "data": {
      "text/plain": [
       "array([[<matplotlib.axes._subplots.AxesSubplot object at 0x7f0a7bf575f8>,\n",
       "        <matplotlib.axes._subplots.AxesSubplot object at 0x7f0a800d8ba8>],\n",
       "       [<matplotlib.axes._subplots.AxesSubplot object at 0x7f0a7bf23278>,\n",
       "        <matplotlib.axes._subplots.AxesSubplot object at 0x7f0a7becb908>]],\n",
       "      dtype=object)"
      ]
     },
     "execution_count": 164,
     "metadata": {},
     "output_type": "execute_result"
    },
    {
     "data": {
      "image/png": "[encoded data removed]",
      "text/plain": [
       "<Figure size 432x288 with 4 Axes>"
      ]
     },
     "metadata": {
      "needs_background": "light"
     },
     "output_type": "display_data"
    }
   ],
   "source": [
    "#blue group\n",
    "id = [x for x in range(group_size)]\n",
    "\n",
    "work = np.random.normal(loc=skew, size=group_size)\n",
    "school = np.random.normal(loc=0, size=group_size)\n",
    "\n",
    "blue_group = pd.DataFrame({'id': id, 'work': work, 'school': school})\n",
    "blue_group.hist()"
   ]
  },
  {
   "cell_type": "code",
   "execution_count": 165,
   "metadata": {},
   "outputs": [
    {
     "data": {
      "text/plain": [
       "array([[<matplotlib.axes._subplots.AxesSubplot object at 0x7f0a81508b70>,\n",
       "        <matplotlib.axes._subplots.AxesSubplot object at 0x7f0a7bf64dd8>],\n",
       "       [<matplotlib.axes._subplots.AxesSubplot object at 0x7f0a7bde14a8>,\n",
       "        <matplotlib.axes._subplots.AxesSubplot object at 0x7f0a7bd88b38>]],\n",
       "      dtype=object)"
      ]
     },
     "execution_count": 165,
     "metadata": {},
     "output_type": "execute_result"
    },
    {
     "data": {
      "image/png": "[encoded data removed]",
      "text/plain": [
       "<Figure size 432x288 with 4 Axes>"
      ]
     },
     "metadata": {
      "needs_background": "light"
     },
     "output_type": "display_data"
    }
   ],
   "source": [
    "#yellow group\n",
    "id = [x for x in range(group_size, 2*group_size)]\n",
    "\n",
    "work = np.random.normal(loc=0, size=group_size)\n",
    "school = np.random.normal(loc=skew, size=group_size)\n",
    "\n",
    "yellow_group = pd.DataFrame({'id': id, 'work': work, 'school': school})\n",
    "yellow_group.hist()"
   ]
  },
  {
   "cell_type": "code",
   "execution_count": 199,
   "metadata": {},
   "outputs": [
    {
     "name": "stdout",
     "output_type": "stream",
     "text": [
      "499.95064394090764\n",
      "497.8363781106001\n"
     ]
    }
   ],
   "source": [
    "# checking employability     work + school\n",
    "fuzz_min = 70\n",
    "fuzz_max = 130\n",
    "\n",
    "yellow_group['empl'] = (yellow_group['school'] + yellow_group['work']) * np.random.randint(fuzz_min, fuzz_max, size=len(yellow_group))\n",
    "blue_group['empl'] = (blue_group['school'] + blue_group['work']) * np.random.randint(fuzz_min, fuzz_max, size=len(blue_group))\n",
    "\n",
    "print(yellow_group['empl'].mean())\n",
    "print(blue_group['empl'].mean())"
   ]
  },
  {
   "cell_type": "code",
   "execution_count": 200,
   "metadata": {},
   "outputs": [],
   "source": [
    "# concat and shuffling rows\n",
    "less_blue_group = blue_group[:1000]\n",
    "df = pd.concat([less_blue_group, yellow_group], ignore_index=True).sample(frac=1).reset_index(drop=True)"
   ]
  },
  {
   "cell_type": "code",
   "execution_count": 201,
   "metadata": {},
   "outputs": [],
   "source": [
    "train, test = train_test_split(df, test_size=0.2)\n",
    "\n",
    "train_x = train.drop('empl', axis='columns')\n",
    "train_y = train['empl']\n",
    "test_x = test.drop('empl', axis='columns')\n",
    "test_y = test['empl']"
   ]
  },
  {
   "cell_type": "code",
   "execution_count": 202,
   "metadata": {},
   "outputs": [
    {
     "name": "stdout",
     "output_type": "stream",
     "text": [
      "0.7230901002740917\n"
     ]
    }
   ],
   "source": [
    "lm = Lasso()\n",
    "lm.fit(train_x, train_y)\n",
    "\n",
    "print(lm.score(test_x, test_y))"
   ]
  },
  {
   "cell_type": "code",
   "execution_count": 203,
   "metadata": {},
   "outputs": [
    {
     "name": "stdout",
     "output_type": "stream",
     "text": [
      "0.7112834929557379\n",
      "0.7106760085831223\n"
     ]
    }
   ],
   "source": [
    "#per group accuracy\n",
    "blue_test = test[test['id'] < group_size]\n",
    "blue_x = blue_group.drop('empl', axis='columns')\n",
    "blue_y = blue_group['empl']\n",
    "print(lm.score(blue_x, blue_y))\n",
    "\n",
    "yellow_test = test[test['id'] >= group_size]\n",
    "yellow_x = yellow_group.drop('empl', axis='columns')\n",
    "yellow_y = yellow_group['empl']\n",
    "print(lm.score(yellow_x, yellow_y))"
   ]
  },
  {
   "cell_type": "code",
   "execution_count": null,
   "metadata": {},
   "outputs": [],
   "source": []
  },
  {
   "cell_type": "code",
   "execution_count": null,
   "metadata": {},
   "outputs": [],
   "source": []
  }
 ],
 "metadata": {
  "kernelspec": {
   "display_name": "Python 3",
   "language": "python",
   "name": "python3"
  },
  "language_info": {
   "codemirror_mode": {
    "name": "ipython",
    "version": 3
   },
   "file_extension": ".py",
   "mimetype": "text/x-python",
   "name": "python",
   "nbconvert_exporter": "python",
   "pygments_lexer": "ipython3",
   "version": "3.6.6"
  }
 },
 "nbformat": 4,
 "nbformat_minor": 2
}
