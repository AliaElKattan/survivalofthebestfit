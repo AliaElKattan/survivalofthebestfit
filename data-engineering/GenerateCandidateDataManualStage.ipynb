{
 "cells": [
  {
   "cell_type": "code",
   "execution_count": 54,
   "metadata": {
    "collapsed": false
   },
   "outputs": [],
   "source": [
    "import numpy as np\n",
    "import pandas as pd\n",
    "from faker import Faker\n",
    "import json\n"
   ]
  },
  {
   "cell_type": "code",
   "execution_count": 31,
   "metadata": {
    "collapsed": false
   },
   "outputs": [
    {
     "name": "stdout",
     "output_type": "stream",
     "text": [
      "Ryan Jones\n",
      "Richard Jarvis\n",
      "Ernest Parker\n",
      "Diana Washington\n",
      "Aaron Mcdonald PhD\n",
      "Autumn Thomas\n",
      "Teresa Brown\n",
      "John Gonzalez\n",
      "Karen Bridges\n",
      "Kelsey Frank\n"
     ]
    }
   ],
   "source": [
    "fake = Faker('en')\n",
    "\n",
    "for _ in range(10):\n",
    "    print(fake.name())\n"
   ]
  },
  {
   "cell_type": "code",
   "execution_count": 19,
   "metadata": {
    "collapsed": false
   },
   "outputs": [
    {
     "data": {
      "text/plain": [
       "'Smith-Miller'"
      ]
     },
     "execution_count": 19,
     "metadata": {},
     "output_type": "execute_result"
    }
   ],
   "source": [
    "fake.company()"
   ]
  },
  {
   "cell_type": "code",
   "execution_count": 49,
   "metadata": {
    "collapsed": false
   },
   "outputs": [],
   "source": [
    "def getBiasedBinaryArr(size, biasWeightArr):\n",
    "    if sum(biasWeightArr) != 1:\n",
    "        raise Exception(\"Bias weights should add up to 1.\")\n",
    "    pers = np.arange(0,2,1)\n",
    "    number = np.random.choice(pers, size, p=biasWeightArr)\n",
    "    print(\"yellow to blue ratio: \" + str(np.bincount(number)))\n",
    "    return number"
   ]
  },
  {
   "cell_type": "code",
   "execution_count": 50,
   "metadata": {
    "collapsed": false
   },
   "outputs": [
    {
     "name": "stdout",
     "output_type": "stream",
     "text": [
      "yellow to blue ratio: [39 61]\n"
     ]
    },
    {
     "data": {
      "text/plain": [
       "array([1, 1, 0, 1, 1, 0, 1, 1, 1, 0, 1, 0, 1, 1, 0, 0, 0, 1, 1, 0, 1, 0,\n",
       "       1, 1, 1, 1, 1, 0, 1, 1, 1, 1, 0, 1, 1, 1, 1, 1, 0, 1, 1, 1, 0, 1,\n",
       "       1, 1, 1, 1, 1, 0, 1, 1, 1, 0, 1, 1, 1, 1, 1, 0, 0, 1, 0, 1, 0, 1,\n",
       "       0, 0, 0, 0, 1, 0, 1, 0, 0, 1, 0, 0, 0, 1, 1, 0, 1, 1, 1, 1, 0, 0,\n",
       "       0, 0, 0, 0, 1, 1, 0, 1, 0, 1, 1, 0])"
      ]
     },
     "execution_count": 50,
     "metadata": {},
     "output_type": "execute_result"
    }
   ],
   "source": [
    "getBiasedBinaryArr(100, [0.3, 0.7])"
   ]
  },
  {
   "cell_type": "code",
   "execution_count": 67,
   "metadata": {
    "collapsed": false
   },
   "outputs": [],
   "source": [
    "def writeCandidateDataArr(size):\n",
    "    # hardcoding yellow-blue distribution \n",
    "    biasWeightArr = [0.3, 0.7]\n",
    "    \n",
    "    binaryColorMap = {0: \"yellow\", 1:\"blue\"}\n",
    "    biasedBinaryArr = getBiasedBinaryArr(size, biasWeightArr)\n",
    "    \n",
    "    fake = Faker('en')\n",
    "    cvCollection = {}\n",
    "    whole = []\n",
    "    featureArr =  ['name','color','qualifications']\n",
    "\n",
    "    for i in range(size):\n",
    "        each = {}\n",
    "        each['name'] = fake.name()\n",
    "        each['color'] = binaryColorMap.get(biasedBinaryArr[i])\n",
    "        each['qualifications'] = np.random.randint(1, 11, size=4).tolist()\n",
    "        whole.append(each)\n",
    "    \n",
    "    cvCollection['manualStageCandidates'] = whole\n",
    "    \n",
    "    path = '../game/public/assets/text/manualStageData.json'\n",
    "    with open(path, 'w') as outfile:\n",
    "        json.dump(cvCollection, outfile)\n",
    "    "
   ]
  },
  {
   "cell_type": "code",
   "execution_count": 69,
   "metadata": {
    "collapsed": false
   },
   "outputs": [
    {
     "name": "stdout",
     "output_type": "stream",
     "text": [
      "yellow to blue ratio: [35 65]\n"
     ]
    }
   ],
   "source": [
    "writeCandidateDataArr(100)"
   ]
  }
 ],
 "metadata": {
  "kernelspec": {
   "display_name": "Python [py3]",
   "language": "python",
   "name": "Python [py3]"
  },
  "language_info": {
   "codemirror_mode": {
    "name": "ipython",
    "version": 3
   },
   "file_extension": ".py",
   "mimetype": "text/x-python",
   "name": "python",
   "nbconvert_exporter": "python",
   "pygments_lexer": "ipython3",
   "version": "3.6.5"
  }
 },
 "nbformat": 4,
 "nbformat_minor": 0
}
